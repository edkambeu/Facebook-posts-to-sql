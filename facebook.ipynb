{
 "cells": [
  {
   "cell_type": "code",
   "execution_count": 23,
   "metadata": {},
   "outputs": [],
   "source": [
    "#Importing relevant libraries \n",
    "import pandas as pd\n",
    "import numpy as np \n",
    "import requests \n",
    "import mysql.connector as mysql"
   ]
  },
  {
   "cell_type": "code",
   "execution_count": 3,
   "metadata": {},
   "outputs": [
    {
     "name": "stdout",
     "output_type": "stream",
     "text": [
      "{'name': 'Edson Kambeu', 'id': '10226451930275156'}\n"
     ]
    }
   ],
   "source": [
    "##Extracting data from facebook api \n",
    "#Setting up the url \n",
    "url = \"https://graph.facebook.com/v12.0/me?access_token=\"\n",
    "token = 'EAAEHNsZAK8n0BACIuGMWGuzvQRcZAmx39NU40MWnGlnqN70WF9bGhKrkdLWx1ZCPi0JqsdJa4Ql7Nx2HFXuIblptHTeoLyixkJgLgiQfCCirZCK7HlWhK4bZBvphXHg4maC9QBrZAQqqpQZAZCQLRZBgWWyJr4jObWa1FS605a7L6sZCZAhDPtabusvx0U1TbF5v37dTEkTu8STfpmJHvseJ3Qvaj6ob6NGNTYZC6HuDRnFHtHyAsHMruKww'\n",
    "full_url = url + token \n",
    "myuser_info = requests.get(full_url)\n",
    "#Exracting my user info\n",
    "myuser_info = requests.get(full_url).json()\n",
    "print(myuser_info)"
   ]
  },
  {
   "cell_type": "code",
   "execution_count": 7,
   "metadata": {},
   "outputs": [
    {
     "name": "stdout",
     "output_type": "stream",
     "text": [
      "[{'id': '10226451930275156_10226602820727323', 'created_time': '2022-01-24T17:07:07+0000', 'message': 'The Yellow we love💛💛💛💛🤗🤗', 'object_id': '10226602820567319', 'type': 'photo', 'updated_time': '2022-01-24T17:07:07+0000'}, {'id': '10226451930275156_10226525280268860', 'created_time': '2022-01-10T14:55:15+0000', 'message': 'Painful to concede at the end..but well played', 'type': 'status', 'updated_time': '2022-01-10T14:55:15+0000'}, {'id': '10226451930275156_10226524072998679', 'created_time': '2022-01-10T10:13:57+0000', 'object_id': '2190634834408352', 'type': 'photo', 'updated_time': '2022-01-10T10:13:57+0000'}, {'id': '10226451930275156_10226455950215652', 'created_time': '2021-12-28T06:24:01+0000', 'message': 'This game was lit. Newcastle played like they were possesed. De Gea putting in some stunning saves🙌', 'object_id': '436198218210685', 'type': 'video', 'updated_time': '2021-12-28T06:24:01+0000'}]\n"
     ]
    }
   ],
   "source": [
    "##Extracting information about page posts \n",
    "url_posts = \"https://graph.facebook.com/v12.0/me/posts?fields=id,created_time,message,shares,object_id,time_visibility,type,updated_time&limit=1000&access_token=\" + token\n",
    "#Extracting posts data\n",
    "myuser_posts = requests.get(url_posts).json()\n",
    "#Viewing the first posts \n",
    "print(myuser_posts['data'][0:4])"
   ]
  },
  {
   "cell_type": "code",
   "execution_count": 8,
   "metadata": {},
   "outputs": [
    {
     "name": "stdout",
     "output_type": "stream",
     "text": [
      "{'id': '10226451930275156_10226425344370525', 'created_time': '2021-12-22T10:43:23+0000', 'object_id': '2176325309172638', 'type': 'photo', 'updated_time': '2021-12-22T10:43:23+0000', 'message': None, 'shares': None, 'time_visibility': None}\n"
     ]
    }
   ],
   "source": [
    "##Adding missing keys in an object-using object index 4 \n",
    "object_fields = ['id', 'created_time', 'message', 'shares', 'object_id', 'time_visibility', 'type', 'updated_time']\n",
    "my_dict = myuser_posts['data'][4]\n",
    "for object_field in object_fields:\n",
    "    if object_field not in my_dict.keys():\n",
    "        my_dict[object_field] = None\n",
    "print(my_dict)\n"
   ]
  },
  {
   "cell_type": "code",
   "execution_count": 9,
   "metadata": {},
   "outputs": [],
   "source": [
    "#Extracting data values from each key\n",
    "post_id = my_dict['id']\n",
    "post_datetime = my_dict['created_time']\n",
    "def shares_value(): \n",
    "    if my_dict['shares'] != None:\n",
    "        value = my_dict['shares']['count']\n",
    "    else:\n",
    "        value = my_dict['shares']\n",
    "    return value\n",
    "post_shares = shares_value()\n",
    "post_object_id = my_dict['object_id']\n",
    "post_object_type = my_dict['type']\n",
    "post_time_visibility = my_dict['time_visibility']\n",
    "last_updated_time = my_dict['updated_time']"
   ]
  },
  {
   "cell_type": "code",
   "execution_count": 10,
   "metadata": {},
   "outputs": [],
   "source": [
    "#Creating a function that extracts data from an object \n",
    "def get_object_data(object_index):\n",
    "    object_fields = ['id', 'created_time', 'message', 'shares', 'object_id', 'time_visibility', 'type', 'updated_time']\n",
    "    my_dict = myuser_posts['data'][object_index]\n",
    "    for object_field in object_fields:\n",
    "        if object_field not in my_dict.keys():\n",
    "            my_dict[object_field] = None\n",
    "#Extracting data values from each key in an object \n",
    "    post_id = my_dict['id']\n",
    "    post_datetime = my_dict['created_time']\n",
    "    post_message = my_dict['message']\n",
    "    def shares_value(): \n",
    "        if my_dict['shares'] != None:\n",
    "            value = my_dict['shares']['count']\n",
    "        else:\n",
    "            value = my_dict['shares']   \n",
    "        return value\n",
    "    post_shares = shares_value()\n",
    "    post_object_id = my_dict['object_id']\n",
    "    post_object_type = my_dict['type']\n",
    "    post_time_visibility = my_dict['time_visibility']\n",
    "    last_updated_time = my_dict['updated_time']\n",
    "#Creating a new dictionary\n",
    "    new_dict = {\n",
    "        object_index: {'post_id': post_id,\n",
    "              'post_datetime': post_datetime,\n",
    "              'post_message': post_message,\n",
    "              'post_shares' : post_shares,\n",
    "              'post_object_id': post_object_id,\n",
    "              'post_object_type': post_object_type,\n",
    "              'post_time_visibility': post_time_visibility,\n",
    "              'last_updated_time': last_updated_time }\n",
    "    }\n",
    "    return new_dict"
   ]
  },
  {
   "cell_type": "code",
   "execution_count": 11,
   "metadata": {},
   "outputs": [
    {
     "data": {
      "text/plain": [
       "{28: {'post_id': '10226451930275156_10224479575447518',\n",
       "  'post_datetime': '2021-02-19T11:12:19+0000',\n",
       "  'post_message': None,\n",
       "  'post_shares': None,\n",
       "  'post_object_id': '10224479575247513',\n",
       "  'post_object_type': 'photo',\n",
       "  'post_time_visibility': None,\n",
       "  'last_updated_time': '2021-02-19T11:12:19+0000'}}"
      ]
     },
     "execution_count": 11,
     "metadata": {},
     "output_type": "execute_result"
    }
   ],
   "source": [
    "#Testing the function-getting the data for object(index =28) \n",
    "get_object_data(28)"
   ]
  },
  {
   "cell_type": "code",
   "execution_count": 12,
   "metadata": {},
   "outputs": [],
   "source": [
    "#Get data for all the objects and store them in a pandas dataframe\n",
    "def get_all_data():\n",
    "        my_newest_dict = { }\n",
    "        for object_index in range (0,len(myuser_posts['data'])):\n",
    "                data = get_object_data(object_index)\n",
    "                my_newest_dict.update(data)\n",
    "                data_df = pd.DataFrame.from_dict(my_newest_dict, orient= 'index')\n",
    "                \n",
    "        return data_df    "
   ]
  },
  {
   "cell_type": "code",
   "execution_count": 13,
   "metadata": {},
   "outputs": [
    {
     "data": {
      "text/html": [
       "<div>\n",
       "<style scoped>\n",
       "    .dataframe tbody tr th:only-of-type {\n",
       "        vertical-align: middle;\n",
       "    }\n",
       "\n",
       "    .dataframe tbody tr th {\n",
       "        vertical-align: top;\n",
       "    }\n",
       "\n",
       "    .dataframe thead th {\n",
       "        text-align: right;\n",
       "    }\n",
       "</style>\n",
       "<table border=\"1\" class=\"dataframe\">\n",
       "  <thead>\n",
       "    <tr style=\"text-align: right;\">\n",
       "      <th></th>\n",
       "      <th>post_id</th>\n",
       "      <th>post_datetime</th>\n",
       "      <th>post_message</th>\n",
       "      <th>post_shares</th>\n",
       "      <th>post_object_id</th>\n",
       "      <th>post_object_type</th>\n",
       "      <th>post_time_visibility</th>\n",
       "      <th>last_updated_time</th>\n",
       "    </tr>\n",
       "  </thead>\n",
       "  <tbody>\n",
       "    <tr>\n",
       "      <th>0</th>\n",
       "      <td>10226451930275156_10226602820727323</td>\n",
       "      <td>2022-01-24T17:07:07+0000</td>\n",
       "      <td>The Yellow we love💛💛💛💛🤗🤗</td>\n",
       "      <td>NaN</td>\n",
       "      <td>10226602820567319</td>\n",
       "      <td>photo</td>\n",
       "      <td>None</td>\n",
       "      <td>2022-01-24T17:07:07+0000</td>\n",
       "    </tr>\n",
       "    <tr>\n",
       "      <th>1</th>\n",
       "      <td>10226451930275156_10226525280268860</td>\n",
       "      <td>2022-01-10T14:55:15+0000</td>\n",
       "      <td>Painful to concede at the end..but well played</td>\n",
       "      <td>NaN</td>\n",
       "      <td>None</td>\n",
       "      <td>status</td>\n",
       "      <td>None</td>\n",
       "      <td>2022-01-10T14:55:15+0000</td>\n",
       "    </tr>\n",
       "    <tr>\n",
       "      <th>2</th>\n",
       "      <td>10226451930275156_10226524072998679</td>\n",
       "      <td>2022-01-10T10:13:57+0000</td>\n",
       "      <td>None</td>\n",
       "      <td>NaN</td>\n",
       "      <td>2190634834408352</td>\n",
       "      <td>photo</td>\n",
       "      <td>None</td>\n",
       "      <td>2022-01-10T10:13:57+0000</td>\n",
       "    </tr>\n",
       "    <tr>\n",
       "      <th>3</th>\n",
       "      <td>10226451930275156_10226455950215652</td>\n",
       "      <td>2021-12-28T06:24:01+0000</td>\n",
       "      <td>This game was lit. Newcastle played like they ...</td>\n",
       "      <td>NaN</td>\n",
       "      <td>436198218210685</td>\n",
       "      <td>video</td>\n",
       "      <td>None</td>\n",
       "      <td>2021-12-28T06:24:01+0000</td>\n",
       "    </tr>\n",
       "    <tr>\n",
       "      <th>4</th>\n",
       "      <td>10226451930275156_10226425344370525</td>\n",
       "      <td>2021-12-22T10:43:23+0000</td>\n",
       "      <td>None</td>\n",
       "      <td>NaN</td>\n",
       "      <td>2176325309172638</td>\n",
       "      <td>photo</td>\n",
       "      <td>None</td>\n",
       "      <td>2021-12-22T10:43:23+0000</td>\n",
       "    </tr>\n",
       "  </tbody>\n",
       "</table>\n",
       "</div>"
      ],
      "text/plain": [
       "                               post_id             post_datetime  \\\n",
       "0  10226451930275156_10226602820727323  2022-01-24T17:07:07+0000   \n",
       "1  10226451930275156_10226525280268860  2022-01-10T14:55:15+0000   \n",
       "2  10226451930275156_10226524072998679  2022-01-10T10:13:57+0000   \n",
       "3  10226451930275156_10226455950215652  2021-12-28T06:24:01+0000   \n",
       "4  10226451930275156_10226425344370525  2021-12-22T10:43:23+0000   \n",
       "\n",
       "                                        post_message  post_shares  \\\n",
       "0                           The Yellow we love💛💛💛💛🤗🤗          NaN   \n",
       "1     Painful to concede at the end..but well played          NaN   \n",
       "2                                               None          NaN   \n",
       "3  This game was lit. Newcastle played like they ...          NaN   \n",
       "4                                               None          NaN   \n",
       "\n",
       "      post_object_id post_object_type post_time_visibility  \\\n",
       "0  10226602820567319            photo                 None   \n",
       "1               None           status                 None   \n",
       "2   2190634834408352            photo                 None   \n",
       "3    436198218210685            video                 None   \n",
       "4   2176325309172638            photo                 None   \n",
       "\n",
       "          last_updated_time  \n",
       "0  2022-01-24T17:07:07+0000  \n",
       "1  2022-01-10T14:55:15+0000  \n",
       "2  2022-01-10T10:13:57+0000  \n",
       "3  2021-12-28T06:24:01+0000  \n",
       "4  2021-12-22T10:43:23+0000  "
      ]
     },
     "execution_count": 13,
     "metadata": {},
     "output_type": "execute_result"
    }
   ],
   "source": [
    "#Printing the pandas dataframe\n",
    "my_df = get_all_data()\n",
    "\n",
    "#Viewing the first 6 rows of my pandas dataframe\n",
    "my_df.head()"
   ]
  },
  {
   "cell_type": "code",
   "execution_count": 14,
   "metadata": {},
   "outputs": [
    {
     "name": "stdout",
     "output_type": "stream",
     "text": [
      "<class 'pandas.core.frame.DataFrame'>\n",
      "Int64Index: 249 entries, 0 to 248\n",
      "Data columns (total 8 columns):\n",
      " #   Column                Non-Null Count  Dtype  \n",
      "---  ------                --------------  -----  \n",
      " 0   post_id               249 non-null    object \n",
      " 1   post_datetime         249 non-null    object \n",
      " 2   post_message          218 non-null    object \n",
      " 3   post_shares           2 non-null      float64\n",
      " 4   post_object_id        90 non-null     object \n",
      " 5   post_object_type      249 non-null    object \n",
      " 6   post_time_visibility  0 non-null      object \n",
      " 7   last_updated_time     249 non-null    object \n",
      "dtypes: float64(1), object(7)\n",
      "memory usage: 17.5+ KB\n",
      "None\n"
     ]
    }
   ],
   "source": [
    "#checking the data type \n",
    "print(my_df.info())"
   ]
  },
  {
   "cell_type": "code",
   "execution_count": 250,
   "metadata": {},
   "outputs": [],
   "source": [
    "#Saving the data frame as a csv file \n",
    "#my_df.to_csv(\"facebook_posts.csv\", index=False)"
   ]
  },
  {
   "cell_type": "code",
   "execution_count": 15,
   "metadata": {},
   "outputs": [
    {
     "name": "stdout",
     "output_type": "stream",
     "text": [
      "0    None\n",
      "1    None\n",
      "2    None\n",
      "3    None\n",
      "4    None\n",
      "Name: post_shares, dtype: object\n"
     ]
    }
   ],
   "source": [
    "##Converting post_shares nan values into none as required in sql \n",
    "#Converting post_shares nan to none \n",
    "my_df['post_shares'] = my_df['post_shares'].astype('object').where(my_df['post_shares'].notna(), None )\n",
    "#Checking whether nan has been converted to none\n",
    "print(my_df['post_shares'].head())"
   ]
  },
  {
   "cell_type": "code",
   "execution_count": 16,
   "metadata": {},
   "outputs": [
    {
     "data": {
      "text/plain": [
       "0    2022-01-24 17:07:07\n",
       "1    2022-01-10 14:55:15\n",
       "2    2022-01-10 10:13:57\n",
       "3    2021-12-28 06:24:01\n",
       "4    2021-12-22 10:43:23\n",
       "Name: post_datetime, dtype: object"
      ]
     },
     "execution_count": 16,
     "metadata": {},
     "output_type": "execute_result"
    }
   ],
   "source": [
    "##Converting post_datetime date into a form accceptable in SQL\n",
    "#post_datetime\n",
    "for index in range(0, len(my_df['post_datetime'])):\n",
    "    my_df['post_datetime'][index] = my_df['post_datetime'][index][:-5].replace('T', ' ')\n",
    "#Checking whether post_date_time has been converted \n",
    "my_df['post_datetime'].head()\n"
   ]
  },
  {
   "cell_type": "code",
   "execution_count": 17,
   "metadata": {},
   "outputs": [
    {
     "data": {
      "text/plain": [
       "0    2022-01-24 17:07:07\n",
       "1    2022-01-10 14:55:15\n",
       "2    2022-01-10 10:13:57\n",
       "3    2021-12-28 06:24:01\n",
       "4    2021-12-22 10:43:23\n",
       "Name: last_updated_time, dtype: object"
      ]
     },
     "execution_count": 17,
     "metadata": {},
     "output_type": "execute_result"
    }
   ],
   "source": [
    "##Converting last_updated_time date into a form accceptable in SQL\n",
    "#last_updated_time\n",
    "for index in range(0, len(my_df['post_datetime'])):\n",
    "    my_df['last_updated_time'][index] = my_df['last_updated_time'][index][:-5].replace('T', ' ')\n",
    "#Check whether last_updated_time has been converted \n",
    "my_df['last_updated_time'].head()"
   ]
  },
  {
   "cell_type": "code",
   "execution_count": 18,
   "metadata": {},
   "outputs": [
    {
     "name": "stdout",
     "output_type": "stream",
     "text": [
      "0    10226602820727323\n",
      "1    10226525280268860\n",
      "2    10226524072998679\n",
      "3    10226455950215652\n",
      "4    10226425344370525\n",
      "Name: post_id, dtype: object\n"
     ]
    }
   ],
   "source": [
    "#Modifying the post ID to remain with the post identifier\n",
    "for index in range(0, len(my_df['post_id'])):\n",
    "    my_df['post_id'][index] = my_df['post_id'][index][18:]\n",
    "#Checking if post id has been modified \n",
    "print(my_df['post_id'].head())\n"
   ]
  },
  {
   "cell_type": "code",
   "execution_count": 21,
   "metadata": {},
   "outputs": [],
   "source": [
    "#A function to convert dataframe to a list of tuples\n",
    "def df_to_list_tuple (): \n",
    "    x= []\n",
    "    for row in my_df.itertuples(index=False, name= None):\n",
    "        x.append(row)\n",
    "    return(x)"
   ]
  },
  {
   "cell_type": "code",
   "execution_count": 22,
   "metadata": {},
   "outputs": [
    {
     "name": "stdout",
     "output_type": "stream",
     "text": [
      "<class 'list'>\n",
      "<class 'tuple'>\n"
     ]
    }
   ],
   "source": [
    "#Getting the data as a tuple\n",
    "my_tuple = df_to_list_tuple()\n",
    "#Checking if its a list \n",
    "print(type(my_tuple))\n",
    "#Checking if list has tuples inside \n",
    "print(type(my_tuple[0]))"
   ]
  },
  {
   "cell_type": "code",
   "execution_count": 25,
   "metadata": {},
   "outputs": [
    {
     "name": "stdout",
     "output_type": "stream",
     "text": [
      "Data sucessfully inserted into mysql database\n"
     ]
    }
   ],
   "source": [
    "##Inserting the data into mysql database\n",
    "#Establishing a connection  \n",
    "try:\n",
    "    conn = mysql.connect(user = 'root',\n",
    "                         password = 'jayden@2022',\n",
    "                         host = '127.0.0.1',\n",
    "                         database = 'facebook')\n",
    "\n",
    "except mysql.Error as err:\n",
    "    if err.errno == errorcode.ER_ACCESS_DENIED_ERROR:\n",
    "        print('You user name or password is incorrect')\n",
    "    elif err.errno == errorcode.ER_BAD_DB_ERROR:\n",
    "        print('Database does not exist')\n",
    "    else :\n",
    "        print(err)\n",
    "\n",
    "#Creating a cursor object\n",
    "cursor = conn.cursor()\n",
    "\n",
    "#Preparing queryto insert data into SQL\n",
    "sql = \"\"\"INSERT INTO facebook_posts (post_id, post_datetime, post_message, post_shares, post_object_id, post_object_type, post_time_visibility, last_updated_time)\n",
    "VALUES (%s, %s, %s,%s ,%s , %s,%s, %s)\"\"\"\n",
    "\n",
    "records = my_tuple\n",
    "try:\n",
    "    #Executing the sql statement\n",
    "    cursor.executemany(sql, records)\n",
    "    \n",
    "    #Commit changes to the database\n",
    "    conn.commit()\n",
    "    print('Data sucessfully inserted into mysql database')\n",
    "except  mysql.Error as err:\n",
    "    print('Somthing went wrong whilst inserting the data into mysql')\n",
    "    print(err)\n",
    "    print(\"Error code:\", err.errno)\n",
    "    print(\"SQL State:\", err.sqlstate)\n",
    "    print(\"Message:\", err.msg)\n",
    "\n",
    "#close the connection \n",
    "conn.close()"
   ]
  }
 ],
 "metadata": {
  "interpreter": {
   "hash": "a297a2b994ae0802deeed98fd952081b69dcadf1219eb73ad23176f394cf2644"
  },
  "kernelspec": {
   "display_name": "Python 3.8.5 64-bit ('base': conda)",
   "name": "python3"
  },
  "language_info": {
   "codemirror_mode": {
    "name": "ipython",
    "version": 3
   },
   "file_extension": ".py",
   "mimetype": "text/x-python",
   "name": "python",
   "nbconvert_exporter": "python",
   "pygments_lexer": "ipython3",
   "version": "3.8.5"
  },
  "orig_nbformat": 4
 },
 "nbformat": 4,
 "nbformat_minor": 2
}
